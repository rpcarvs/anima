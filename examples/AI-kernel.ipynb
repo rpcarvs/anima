{
 "cells": [
  {
   "cell_type": "markdown",
   "id": "47a30337",
   "metadata": {},
   "source": [
    "## Using the AI-kernel\n",
    "---\n",
    "\n",
    "The AI-kernel follows the developed framework as explained in REF-PAPER. ANIMA has the trained AI already available inside anima.models."
   ]
  },
  {
   "cell_type": "code",
   "execution_count": 1,
   "id": "7f1dd404",
   "metadata": {},
   "outputs": [],
   "source": [
    "from anima.models import AIkernel\n",
    "from anima.smiles import SMILES"
   ]
  },
  {
   "cell_type": "code",
   "execution_count": 2,
   "id": "9dd3b8d4",
   "metadata": {},
   "outputs": [],
   "source": [
    "smiles = [\"N#CC1=CC2C3Cc4sc(=N)c(Br)c1c4N23\",\n",
    "        \"N=c1[nH]cc2c(c1Br)C1CC2C2CNC(=O)N12\",\n",
    "        \"N#CC12CNc3nc(=O)sc(Br)c3C(C1)C2\",\n",
    "        \"Brc1c2c(nc3cnsc13)OCC1CC2C1\",\n",
    "        \"N=c1nc2oc(Br)c3c4c(cc1n4-2)C=NC3=O\",\n",
    "        \"[O]C1=C(Br)C2=C(N=[S]1)C1CC2N2CCCC12\",\n",
    "        \"O=c1nc2c(c(Br)o1)C1CC2C2NCCNC12\",\n",
    "        \"Brc1c2c(nc3sccc13)C1C3C=CC2N31\",\n",
    "        \"O=S1(=O)C=NN2C=CC3CN4CC4C3C2=C1Br\",\n",
    "        \"N=c1scc2c(c1Br)C1=C(CC=C2)CCC1\"]"
   ]
  },
  {
   "cell_type": "code",
   "execution_count": 3,
   "id": "0ab0690a",
   "metadata": {},
   "outputs": [
    {
     "name": "stdout",
     "output_type": "stream",
     "text": [
      "Error when processing the SMILES:\n",
      " ['N=c1nc2oc(Br)c3c4c(cc1n4-2)C=NC3=O']\n",
      "Batch: 0000001.00 of 0000000.14 batches\r",
      "Batch: 0000001.00 of 0000000.14 batches\r"
     ]
    },
    {
     "data": {
      "text/plain": [
       "array([1.9567256, 0.5901437, 1.8989816, 1.7526374, 1.5983334, 1.687933 ,\n",
       "       1.3908982, 1.7110481, 1.5528951], dtype=float32)"
      ]
     },
     "execution_count": 3,
     "metadata": {},
     "output_type": "execute_result"
    }
   ],
   "source": [
    "AIkernel(smiles)"
   ]
  },
  {
   "cell_type": "markdown",
   "id": "4ba945cc",
   "metadata": {},
   "source": [
    "The kernel will return a message containing a list of the respective SMILES and an error-message if it finds trouble processing any input. There are two types of \"error\" messages: when the SMILES is bigger than the maximum allowed sequence length (54 items after splitting the SMILES) or when RDkit finds any trouble processing it. In this example, 'N=c1nc2oc(Br)c3c4c(cc1n4-2)C=NC3=O' is an invalid SMILES. We can try to get a valid SMILES from it by using [pysmiles](https://pypi.org/project/pysmiles/) and OpenBabel to return the canonical format. It is up to the user to analyse and validate the SMILES."
   ]
  },
  {
   "cell_type": "code",
   "execution_count": 4,
   "id": "8f556967",
   "metadata": {},
   "outputs": [],
   "source": [
    "sml = SMILES()"
   ]
  },
  {
   "cell_type": "code",
   "execution_count": 5,
   "id": "7b920d1f",
   "metadata": {},
   "outputs": [
    {
     "data": {
      "text/plain": [
       "'BrC1=C2C(=O)N=Cc3c2n2C(O1)NC(=N)c2c3'"
      ]
     },
     "execution_count": 5,
     "metadata": {},
     "output_type": "execute_result"
    }
   ],
   "source": [
    "sml.smiles_cleaner(sml.OB_standard_smiles(sml.PS_fix(\"N=c1nc2oc(Br)c3c4c(cc1n4-2)C=NC3=O\")))"
   ]
  },
  {
   "cell_type": "code",
   "execution_count": 6,
   "id": "ab360342",
   "metadata": {},
   "outputs": [
    {
     "name": "stdout",
     "output_type": "stream",
     "text": [
      "Batch: 0000001.00 of 0000000.02 batches\r",
      "Batch: 0000001.00 of 0000000.02 batches\r"
     ]
    },
    {
     "data": {
      "text/plain": [
       "array([2.0427961], dtype=float32)"
      ]
     },
     "execution_count": 6,
     "metadata": {},
     "output_type": "execute_result"
    }
   ],
   "source": [
    "AIkernel(['BrC1=C2C(=O)N=Cc3c2n2C(O1)NC(=N)c2c3'])"
   ]
  },
  {
   "cell_type": "markdown",
   "id": "1e55dc88",
   "metadata": {},
   "source": [
    "The returned values are the battery open-circuit voltages ($vs.$ Li/Li$^+$)\n",
    "\n",
    "If the parameter return_redox is set to True, the AIkernel will return a list of [voltage, [oxidation potential, reduction potential]] in which the redox potentials are referred to the vacuum."
   ]
  },
  {
   "cell_type": "code",
   "execution_count": 7,
   "id": "e1b68c18",
   "metadata": {},
   "outputs": [
    {
     "name": "stdout",
     "output_type": "stream",
     "text": [
      "Batch: 0000001.00 of 0000000.02 batches\r",
      "Batch: 0000001.00 of 0000000.02 batches\r"
     ]
    },
    {
     "data": {
      "text/plain": [
       "(array([2.0427961], dtype=float32),\n",
       " [array([5.5833383], dtype=float32), array([3.3329964], dtype=float32)])"
      ]
     },
     "execution_count": 7,
     "metadata": {},
     "output_type": "execute_result"
    }
   ],
   "source": [
    "AIkernel(['BrC1=C2C(=O)N=Cc3c2n2C(O1)NC(=N)c2c3'], return_redox=True)"
   ]
  }
 ],
 "metadata": {
  "kernelspec": {
   "display_name": "Python 3",
   "language": "python",
   "name": "python3"
  },
  "language_info": {
   "codemirror_mode": {
    "name": "ipython",
    "version": 3
   },
   "file_extension": ".py",
   "mimetype": "text/x-python",
   "name": "python",
   "nbconvert_exporter": "python",
   "pygments_lexer": "ipython3",
   "version": "3.7.10"
  }
 },
 "nbformat": 4,
 "nbformat_minor": 5
}
