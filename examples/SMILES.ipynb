{
 "cells": [
  {
   "cell_type": "code",
   "execution_count": 1,
   "id": "d3783fac",
   "metadata": {},
   "outputs": [],
   "source": [
    "import numpy as np\n",
    "import pandas as pd\n",
    "import os"
   ]
  },
  {
   "cell_type": "code",
   "execution_count": 2,
   "id": "664827d2",
   "metadata": {},
   "outputs": [],
   "source": [
    "from anima.smiles import SMILES"
   ]
  },
  {
   "cell_type": "markdown",
   "id": "2f39367f",
   "metadata": {},
   "source": [
    "#### Initiating SMILES class"
   ]
  },
  {
   "cell_type": "code",
   "execution_count": 3,
   "id": "88e1342d",
   "metadata": {},
   "outputs": [],
   "source": [
    "sml = SMILES()"
   ]
  },
  {
   "cell_type": "markdown",
   "id": "ac7e9947",
   "metadata": {},
   "source": [
    "#### Defining working dirs"
   ]
  },
  {
   "cell_type": "code",
   "execution_count": 4,
   "id": "b487f5ea",
   "metadata": {},
   "outputs": [],
   "source": [
    "main_dir = os.getcwd()\n",
    "xyz_dir = main_dir + \"/xyz/\"\n",
    "structures = os.listdir(xyz_dir)"
   ]
  },
  {
   "cell_type": "markdown",
   "id": "5dca92cb",
   "metadata": {},
   "source": [
    "## Converting .xyz to SMILES\n",
    "---\n",
    "\n",
    "### Method 1 - Using the xyz2smiles function\n",
    "This method is based on https://github.com/jensengroup/xyz2mol from the paper DOI: 10.1002/bkcs.10334. It is slower than the second method (based on OpenBabel), but usually yield more trustable SMILES.\n",
    "\n",
    "#### Reading the xyz files"
   ]
  },
  {
   "cell_type": "code",
   "execution_count": 5,
   "id": "4d7aa328",
   "metadata": {},
   "outputs": [
    {
     "data": {
      "text/plain": [
       "'O=CC1C2C3=NNS(=O)(=O)C(Br)=C3C1C1CC12'"
      ]
     },
     "execution_count": 5,
     "metadata": {},
     "output_type": "execute_result"
    }
   ],
   "source": [
    "sml.xyz_to_smiles('xyz/1.xyz')"
   ]
  },
  {
   "cell_type": "code",
   "execution_count": 6,
   "id": "482e15fb",
   "metadata": {},
   "outputs": [
    {
     "name": "stdout",
     "output_type": "stream",
     "text": [
      "N#CC1=CC2C3Cc4sc(=N)c(Br)c1c4N23\n",
      "N=c1[nH]cc2c(c1Br)C1CC2C2CNC(=O)N12\n",
      "N#CC12CNc3nc(=O)sc(Br)c3C(C1)C2\n",
      "Brc1c2c(nc3cnsc13)OCC1CC2C1\n",
      "N=c1nc2oc(Br)c3c4c(cc1n4-2)C=NC3=O\n",
      "[O]C1=C(Br)C2=C(N=[S]1)C1CC2N2CCCC12\n",
      "O=c1nc2c(c(Br)o1)C1CC2C2NCCNC12\n",
      "Brc1c2c(nc3sccc13)C1C3C=CC2N31\n",
      "O=S1(=O)C=NN2C=CC3CN4CC4C3C2=C1Br\n",
      "N=c1scc2c(c1Br)C1=C(CC=C2)CCC1\n"
     ]
    }
   ],
   "source": [
    "for i in structures[:10]:\n",
    "    n = int(i[:-4])\n",
    "    print(sml.xyz_to_smiles(xyz_dir + i))"
   ]
  },
  {
   "cell_type": "markdown",
   "id": "6528e1c1",
   "metadata": {},
   "source": [
    "#### Using the standard_smiles function based on RDKIT to standardize the SMILES in Canonical format "
   ]
  },
  {
   "cell_type": "code",
   "execution_count": 7,
   "id": "9ffd6b68",
   "metadata": {},
   "outputs": [
    {
     "name": "stdout",
     "output_type": "stream",
     "text": [
      "N#CC1=CC2C3Cc4sc(=N)c(Br)c1c4N23\n",
      "N=c1[nH]cc2c(c1Br)C1CC2C2CNC(=O)N12\n",
      "N#CC12CNc3nc(=O)sc(Br)c3C(C1)C2\n",
      "Brc1c2c(nc3cnsc13)OCC1CC2C1\n",
      "N=c1nc2oc(Br)c3c4c(cc1n4-2)C=NC3=O\n",
      "[O]C1=C(Br)C2=C(N=[S]1)C1CC2N2CCCC12\n",
      "O=c1nc2c(c(Br)o1)C1CC2C2NCCNC12\n",
      "Brc1c2c(nc3sccc13)C1C3C=CC2N31\n",
      "O=S1(=O)C=NN2C=CC3CN4CC4C3C2=C1Br\n",
      "N=c1scc2c(c1Br)C1=C(CC=C2)CCC1\n"
     ]
    }
   ],
   "source": [
    "for i in structures[:10]:\n",
    "    n = int(i[:-4])\n",
    "    print(sml.standard_smiles(sml.xyz_to_smiles(xyz_dir + i)))"
   ]
  },
  {
   "cell_type": "markdown",
   "id": "fe115a14",
   "metadata": {},
   "source": [
    "#### Calling the smiles_cleaner to get a more simplified version of the SMILES for NLP"
   ]
  },
  {
   "cell_type": "code",
   "execution_count": 8,
   "id": "94fed6c6",
   "metadata": {},
   "outputs": [
    {
     "name": "stdout",
     "output_type": "stream",
     "text": [
      "N#CC1=CC2C3Cc4sc(=N)c(Br)c1c4N23\n",
      "N=c1[nH]cc2c(c1Br)C1CC2C2CNC(=O)N12\n",
      "N#CC12CNc3nc(=O)sc(Br)c3C(C1)C2\n",
      "Brc1c2c(nc3cnsc13)OCC1CC2C1\n",
      "N=c1nc2oc(Br)c3c4c(cc1n4-2)C=NC3=O\n",
      "OC1=C(Br)C2=C(N=S1)C1CC2N2CCCC12\n",
      "O=c1nc2c(c(Br)o1)C1CC2C2NCCNC12\n",
      "Brc1c2c(nc3sccc13)C1C3C=CC2N31\n",
      "O=S1(=O)C=NN2C=CC3CN4CC4C3C2=C1Br\n",
      "N=c1scc2c(c1Br)C1=C(CC=C2)CCC1\n"
     ]
    }
   ],
   "source": [
    "for i in structures[:10]:\n",
    "    n = int(i[:-4])\n",
    "    print(sml.smiles_cleaner(sml.standard_smiles(sml.xyz_to_smiles(xyz_dir + i))))"
   ]
  },
  {
   "cell_type": "markdown",
   "id": "f85352c9",
   "metadata": {},
   "source": [
    "#### Storing 30xSMILES in a list for later"
   ]
  },
  {
   "cell_type": "code",
   "execution_count": 9,
   "id": "c4b2ffa2",
   "metadata": {},
   "outputs": [],
   "source": [
    "smiles1 = []\n",
    "for i in structures[:30]:\n",
    "    n = int(i[:-4])\n",
    "    smiles1.append(sml.smiles_cleaner(sml.standard_smiles(sml.xyz_to_smiles(xyz_dir + i,chiral=False,charged_fragments=True))))"
   ]
  },
  {
   "cell_type": "code",
   "execution_count": 10,
   "id": "a9120f16",
   "metadata": {},
   "outputs": [
    {
     "data": {
      "text/plain": [
       "['N#CC1=CC2C3Cc4sc(=N)c(Br)c1c4N23',\n",
       " 'N=c1[nH]cc2c(c1Br)C1CC2C2CNC(=O)N12',\n",
       " 'N#CC12CNc3nc(=O)sc(Br)c3C(C1)C2',\n",
       " 'Brc1c2c(nc3cnsc13)OCC1CC2C1',\n",
       " 'N=c1nc2oc(Br)c3c4c(cc1n4-2)C=NC3=O',\n",
       " '[O-]c1[s+]nc2c(c1Br)C1CC2C2CCCN12',\n",
       " 'O=c1nc2c(c(Br)o1)C1CC2C2NCCNC12',\n",
       " 'Brc1c2c(nc3sccc13)C1C3C=CC2N31',\n",
       " 'O=S1(=O)C=NN2C=CC3CN4CC4C3C2=C1Br',\n",
       " 'N=c1scc2c(c1Br)C1=C(CC=C2)CCC1',\n",
       " 'C#Cc1c(Br)c2cn[nH]c(Br)c2c2cccc12',\n",
       " 'O=c1cc2[nH]c(Br)c3c(=O)[nH]nc4nc1c2=c43',\n",
       " 'O=c1occ2c(c1Br)C1CC2C2CCCNC12',\n",
       " 'N=c1scc2c(c1Br)C1CCC3NC31CN2',\n",
       " 'O=C1CC2C3CC(c4cc(=O)[nH]c(Br)c43)C2O1',\n",
       " 'O=S1(=O)C=NN2C(=C1Br)C1C3COC(C3)CC12',\n",
       " 'N=c1nc2c(c(Br)s1)C1CC2CC12CCN2',\n",
       " 'N=C1NC2CCC(C1=O)c1n[s+]c([O-])c(Br)c12',\n",
       " 'N=C1SC(Br)=C2C3CC(C4CC4N3)N2S1(=O)=O',\n",
       " 'O=C1OC2C3CC(c4c3c[nH]c(=O)c4Br)C2O1',\n",
       " 'N=C1CC2Cc3cc(=O)[nH]c(Br)c3C2C(=N)N1',\n",
       " 'O=S1([O-])=C2C(Br)=[S+]C(=C1)COCOC1CC2C1',\n",
       " 'O=S1(=O)C=C2OC3CCC4C(=C1Br)N2C34',\n",
       " 'N=c1nc2c(c(Br)[nH]1)C1CC2C2OCC1C2=O',\n",
       " 'O=S1(=O)C=C2NC=NC3CC(C3)C2=C(Br)N1',\n",
       " 'N#CC1NC(=N)CC2Cc3ccnc(Br)c3C21',\n",
       " 'N#CC1OC2C3c4nsc(=N)c(Br)c4C1C23',\n",
       " 'N#C[C+]1CC(C[NH-])C2[C-]3C(Br)=CC=NC3=[O+]C12',\n",
       " 'O=c1cc2[nH]c(=O)c3c(Br)ncn4cc1c2c34',\n",
       " '[O-]c1nc[s+]ccnc2c(Br)c1C1CC1O2']"
      ]
     },
     "execution_count": 10,
     "metadata": {},
     "output_type": "execute_result"
    }
   ],
   "source": [
    "smiles1"
   ]
  },
  {
   "cell_type": "markdown",
   "id": "6098bd92",
   "metadata": {},
   "source": [
    "### Method 2 - Using OpenBabel based xyz2smiles\n",
    "This method is based on OpenBabel.\n",
    "\n",
    "#### Reading the xyz files"
   ]
  },
  {
   "cell_type": "code",
   "execution_count": 18,
   "id": "b0e3f745",
   "metadata": {},
   "outputs": [
    {
     "data": {
      "text/plain": [
       "'BrC1=C2[C@H]3[C@@H]4C[C@@H]4[C@H]([C@@H]3C=O)[C]2[N]NS1(=O)=O'"
      ]
     },
     "execution_count": 18,
     "metadata": {},
     "output_type": "execute_result"
    }
   ],
   "source": [
    "sml.OB_xyz_to_smiles('xyz/1.xyz')"
   ]
  },
  {
   "cell_type": "code",
   "execution_count": 19,
   "id": "2f1d4486",
   "metadata": {},
   "outputs": [
    {
     "name": "stdout",
     "output_type": "stream",
     "text": [
      "BrC1=C2[C]3[C](C[C@@H]4[C@H]([CH][C]2[C][N])[N@]34)S[C]1[NH]\n",
      "BrC1=C(N[CH]C2=C1[C@@H]1C[C@H]2[C@H]2CNC(=O)N12)[NH]\n",
      "Brc1c2[C@H]3C[C@](C3)(CNc2nc(=O)s1)C#N\n",
      "Brc1c2[C@@H]3C[C@@H](C3)COc2nc2c1snc2\n",
      "BrC1=C2c3c(cc4n3C(=N[C]4[NH])O1)C=NC2=O\n",
      "Brc1c2[C@H]3C[C@H]([C@@H]4CCC[N@]34)c2nsc1=O\n",
      "Brc1c2[C@H]3C[C@H]([C@@H]4NCCN[C@@H]34)c2nc(=O)o1\n",
      "Brc1c2[C@@H]3C=C[C@@H]4[C@@H]([N@]34)c2nc2c1ccs2\n",
      "BrC1=C2[C@H]3[C@@H]4C[N@@]4C[C@@H]3C=CN2N=CS1(=O)=O\n",
      "BrC1=C(S[CH]C2=C1[C]1[C](CCC1)CC=C2)[NH]\n"
     ]
    }
   ],
   "source": [
    "for i in structures[:10]:\n",
    "    n = int(i[:-4])\n",
    "    print(sml.OB_xyz_to_smiles(xyz_dir + i))"
   ]
  },
  {
   "cell_type": "markdown",
   "id": "36a90c4f",
   "metadata": {},
   "source": [
    "#### Using the standard_smiles function based on RDKIT to standardize the SMILES in Canonical format "
   ]
  },
  {
   "cell_type": "code",
   "execution_count": 26,
   "id": "d4433db2",
   "metadata": {},
   "outputs": [
    {
     "name": "stdout",
     "output_type": "stream",
     "text": [
      "[N][C][C]1[CH]C2C3C[C]4S[C]([NH])C(Br)=C1[C]4N23\n",
      "[NH]C1=C(Br)C2=C([CH]N1)C1CC2N2C(=O)NCC12\n",
      "N#CC12CNc3nc(=O)sc(Br)c3C(C1)C2\n",
      "Brc1c2c(nc3cnsc13)OCC1CC2C1\n",
      "[NH][C]1N=C2OC(Br)=C3C(=O)N=Cc4cc1n2c43\n",
      "O=c1snc2c(c1Br)C1CC2C2CCCN12\n",
      "O=c1nc2c(c(Br)o1)C1CC2C2NCCNC12\n",
      "Brc1c2c(nc3sccc13)C1C3C=CC2N31\n",
      "O=S1(=O)C=NN2C=CC3CN4CC4C3C2=C1Br\n",
      "[NH]C1=C(Br)C2=C([CH]S1)C=CC[C]1CCC[C]12\n"
     ]
    }
   ],
   "source": [
    "for i in structures[:10]:\n",
    "    n = int(i[:-4])\n",
    "    print(sml.standard_smiles(sml.OB_xyz_to_smiles(xyz_dir + i)))"
   ]
  },
  {
   "cell_type": "markdown",
   "id": "209df9ed",
   "metadata": {},
   "source": [
    "#### Calling the smiles_cleaner to get a more simplified version of the SMILES for NLP"
   ]
  },
  {
   "cell_type": "code",
   "execution_count": 27,
   "id": "7ced472b",
   "metadata": {},
   "outputs": [
    {
     "name": "stdout",
     "output_type": "stream",
     "text": [
      "NCC1CC2C3CC4SC(N)C(Br)=C1C4N23\n",
      "NC1=C(Br)C2=C(CN1)C1CC2N2C(=O)NCC12\n",
      "N#CC12CNc3nc(=O)sc(Br)c3C(C1)C2\n",
      "Brc1c2c(nc3cnsc13)OCC1CC2C1\n",
      "NC1N=C2OC(Br)=C3C(=O)N=Cc4cc1n2c43\n",
      "O=c1snc2c(c1Br)C1CC2C2CCCN12\n",
      "O=c1nc2c(c(Br)o1)C1CC2C2NCCNC12\n",
      "Brc1c2c(nc3sccc13)C1C3C=CC2N31\n",
      "O=S1(=O)C=NN2C=CC3CN4CC4C3C2=C1Br\n",
      "NC1=C(Br)C2=C(CS1)C=CCC1CCCC12\n"
     ]
    }
   ],
   "source": [
    "for i in structures[:10]:\n",
    "    n = int(i[:-4])\n",
    "    print(sml.smiles_cleaner(sml.standard_smiles(sml.OB_xyz_to_smiles(xyz_dir + i))))"
   ]
  },
  {
   "cell_type": "markdown",
   "id": "02f7480c",
   "metadata": {},
   "source": [
    "#### Storing 30xSMILES in a list for later"
   ]
  },
  {
   "cell_type": "code",
   "execution_count": 32,
   "id": "d0df63d5",
   "metadata": {},
   "outputs": [],
   "source": [
    "smiles2 = []\n",
    "for i in structures[:30]:\n",
    "    n = int(i[:-4])\n",
    "    smiles2.append(sml.smiles_cleaner(sml.OB_standard_smiles(sml.OB_xyz_to_smiles(xyz_dir + i))))"
   ]
  },
  {
   "cell_type": "code",
   "execution_count": 35,
   "id": "19ade51c",
   "metadata": {},
   "outputs": [
    {
     "data": {
      "text/plain": [
       "['NCC1CC2C3N2C2C1=C(Br)C(SC2C3)N',\n",
       " 'O=C1NCC2N1C1CC2C2=C1C(=C(NC2)N)Br',\n",
       " 'N#CC12CNc3c(C(C1)C2)c(Br)sc(=O)n3',\n",
       " 'Brc1c2C3CC(C3)COc2nc2c1snc2',\n",
       " 'BrC1=C2C(=O)N=Cc3c2n2C(=NC(c2c3)N)O1',\n",
       " 'O=c1snc2c(c1Br)C1CC2C2N1CCC2',\n",
       " 'O=c1nc2C3CC(c2c(o1)Br)C1C3NCCN1',\n",
       " 'Brc1c2C3C=CC4N3C4c2nc2c1ccs2',\n",
       " 'BrC1=C2N(C=CC3C2C2CN2C3)N=CS1(=O)=O',\n",
       " 'NC1=C(Br)C2=C(CS1)C=CCC1C2CCC1',\n",
       " 'C#Cc1c(Br)c2cn[nH]c(c2c2c1ccc2)Br',\n",
       " 'BrC1NC2=CC(=O)C3C2C2C1C(=O)NNC2=N3',\n",
       " 'O=c1occ2c(c1Br)C1CC2C2C1NCCC2',\n",
       " 'NC1=C(Br)C2=C(CS1)NCC13C2CCC3N1',\n",
       " 'O=C1CC2C(O1)C1CC2c2c1cc(=O)[nH]c2Br',\n",
       " 'BrC1=C2N(NCS1(=O)=O)C1C2C2COC(C1)C2',\n",
       " 'NC1=NC2C(=C(S1)Br)C1CC2CC21CCN2',\n",
       " 'O=C1C(N)NC2CCC1c1nsc(=O)c(c21)Br',\n",
       " 'BrC1=C2C3NC4C(C(N2S(=O)(=O)C(S1)N)C3)C4',\n",
       " 'O=C1OC2C(O1)C1CC2c2c1c(Br)c(=O)[nH]c2',\n",
       " 'N=C1CC2Cc3c(C2C(=N)N1)c(Br)[nH]c(=O)c3',\n",
       " 'BrC1SC2COCOC3CC(C1S(=O)(=O)C2)C3',\n",
       " 'BrC1=C2C3CCC4C3N2C(CS1(=O)=O)O4',\n",
       " 'O=C1C2OCC1C1CC2C2=C1C(Br)NC(=N2)N',\n",
       " 'BrC1NS(=O)(=O)C=C2C1C1CC(C1)N=CN2',\n",
       " 'NCC1NC(N)CC2C1c1c(C2)ccnc1Br',\n",
       " 'NCC1OC2C3C1C1=C(Br)C(N)SN=C1C23',\n",
       " 'N=C1N2C31CC(C2)C1C3Oc2c1c(Br)ccn2',\n",
       " 'O=c1cc2c3c1cn1c3c(c(=O)[nH]2)c(nc1)Br',\n",
       " 'O=C1NCSCCN=C2C(C1C1CC1O2)Br']"
      ]
     },
     "execution_count": 35,
     "metadata": {},
     "output_type": "execute_result"
    }
   ],
   "source": [
    "smiles2"
   ]
  },
  {
   "cell_type": "markdown",
   "id": "79168fbd",
   "metadata": {},
   "source": [
    "As one can see, this list of SMILES shows a few differences compared to the previous method. Therefore, we recommend the Method1 in general."
   ]
  },
  {
   "cell_type": "markdown",
   "id": "6329ef72",
   "metadata": {},
   "source": [
    "## NLP\n",
    "---\n",
    "After preparing the list of SMILES we can use the NLP tools to process them.\n",
    "\n",
    "### Spliting the SMILES"
   ]
  },
  {
   "cell_type": "code",
   "execution_count": 23,
   "id": "52006646",
   "metadata": {},
   "outputs": [
    {
     "data": {
      "text/plain": [
       "'N#CC1=CC2C3Cc4sc(=N)c(Br)c1c4N23'"
      ]
     },
     "execution_count": 23,
     "metadata": {},
     "output_type": "execute_result"
    }
   ],
   "source": [
    "smiles1[0]"
   ]
  },
  {
   "cell_type": "code",
   "execution_count": 22,
   "id": "f2b32b1f",
   "metadata": {},
   "outputs": [
    {
     "name": "stdout",
     "output_type": "stream",
     "text": [
      "['N', '#', 'C', 'C', '1', '=', 'C', 'C', '2', 'C', '3', 'C', 'c', '4', 's', 'c', '(', '=', 'N', ')', 'c', '(', 'Br', ')', 'c', '1', 'c', '4', 'N', '2', '3']\n"
     ]
    }
   ],
   "source": [
    "print(sml.smilesSEP(smiles1[0]))"
   ]
  },
  {
   "cell_type": "markdown",
   "id": "bc8bdc04",
   "metadata": {},
   "source": [
    "### Creating the Vocab"
   ]
  },
  {
   "cell_type": "code",
   "execution_count": 11,
   "id": "5d015310",
   "metadata": {},
   "outputs": [
    {
     "name": "stderr",
     "output_type": "stream",
     "text": [
      "[Parallel(n_jobs=1)]: Using backend SequentialBackend with 1 concurrent workers.\n",
      "[Parallel(n_jobs=1)]: Done  30 out of  30 | elapsed:    0.1s finished\n"
     ]
    }
   ],
   "source": [
    "vocab = sml.smilesVOC(smiles1)\n",
    "vocab_size = len(vocab)"
   ]
  },
  {
   "cell_type": "markdown",
   "id": "973976a9",
   "metadata": {},
   "source": [
    "This is how the vocab looks like:"
   ]
  },
  {
   "cell_type": "code",
   "execution_count": 13,
   "id": "43a170e1",
   "metadata": {},
   "outputs": [
    {
     "name": "stdout",
     "output_type": "stream",
     "text": [
      "['#', '(', ')', '-', '1', '2', '3', '4', '=', 'Br', 'C', 'N', 'O', 'S', '[C+]', '[C-]', '[NH-]', '[O+]', '[O-]', '[S+]', '[nH]', '[s+]', 'c', 'n', 'o', 's']\n"
     ]
    }
   ],
   "source": [
    "print(vocab)"
   ]
  },
  {
   "cell_type": "markdown",
   "id": "ace2bd2a",
   "metadata": {},
   "source": [
    "We can use the vocab to create a index-based sequence following the vocab.\n",
    "\n",
    "The original SMILES:"
   ]
  },
  {
   "cell_type": "code",
   "execution_count": 24,
   "id": "da925048",
   "metadata": {},
   "outputs": [
    {
     "name": "stdout",
     "output_type": "stream",
     "text": [
      "N#CC1=CC2C3Cc4sc(=N)c(Br)c1c4N23\n"
     ]
    }
   ],
   "source": [
    "print(smiles1[0])"
   ]
  },
  {
   "cell_type": "markdown",
   "id": "e3de05ac",
   "metadata": {},
   "source": [
    "THe indexed SMILES:"
   ]
  },
  {
   "cell_type": "code",
   "execution_count": 19,
   "id": "f7d876b7",
   "metadata": {},
   "outputs": [
    {
     "name": "stdout",
     "output_type": "stream",
     "text": [
      "[[11], [0], [10], [10], [4], [8], [10], [10], [5], [10], [6], [10], [22], [7], [25], [22], [1], [8], [11], [2], [22], [1], [9], [2], [22], [4], [22], [7], [11], [5], [6]]\n"
     ]
    }
   ],
   "source": [
    "print(sml.smilesToSequence(smiles1[0],vocab))"
   ]
  },
  {
   "cell_type": "code",
   "execution_count": null,
   "id": "31b3d16d",
   "metadata": {},
   "outputs": [],
   "source": []
  }
 ],
 "metadata": {
  "kernelspec": {
   "display_name": "Python 3",
   "language": "python",
   "name": "python3"
  },
  "language_info": {
   "codemirror_mode": {
    "name": "ipython",
    "version": 3
   },
   "file_extension": ".py",
   "mimetype": "text/x-python",
   "name": "python",
   "nbconvert_exporter": "python",
   "pygments_lexer": "ipython3",
   "version": "3.7.10"
  }
 },
 "nbformat": 4,
 "nbformat_minor": 5
}
